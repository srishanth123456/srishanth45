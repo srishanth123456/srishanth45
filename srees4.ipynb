{
 "cells": [
  {
   "cell_type": "code",
   "execution_count": 1,
   "id": "fa187967-d046-4bbd-9702-fbb732e6896a",
   "metadata": {},
   "outputs": [
    {
     "name": "stdout",
     "output_type": "stream",
     "text": [
      "Steps to reach the target:\n",
      "(0, 0)\n",
      "(0, 3)\n",
      "(3, 0)\n",
      "(3, 3)\n",
      "(4, 2)\n"
     ]
    }
   ],
   "source": [
    "from collections import deque\n",
    "\n",
    "def water_jugs_bfs(jug1, jug2, target):\n",
    "    visited = set()\n",
    "    parent = {}\n",
    "    queue = deque([(0, 0)])\n",
    "    parent[(0, 0)] = None\n",
    "\n",
    "    while queue:\n",
    "        x, y = queue.popleft()\n",
    "\n",
    "        if (x, y) in visited:\n",
    "            continue\n",
    "        visited.add((x, y))\n",
    "\n",
    "        if x == target or y == target:\n",
    "            # Reconstruct path safely\n",
    "            path = []\n",
    "            current = (x, y)\n",
    "            while current is not None:\n",
    "                path.append(current)\n",
    "                current = parent[current]\n",
    "            return path[::-1]\n",
    "\n",
    "        next_states = [\n",
    "            (jug1, y),  # fill jug1\n",
    "            (x, jug2),  # fill jug2\n",
    "            (0, y),     # empty jug1\n",
    "            (x, 0),     # empty jug2\n",
    "            (x - min(x, jug2 - y), y + min(x, jug2 - y)),  # pour jug1 -> jug2\n",
    "            (x + min(y, jug1 - x), y - min(y, jug1 - x))   # pour jug2 -> jug1\n",
    "        ]\n",
    "\n",
    "        for state in next_states:\n",
    "            if state not in visited and state not in parent:\n",
    "                queue.append(state)\n",
    "                parent[state] = (x, y)\n",
    "\n",
    "    return None\n",
    "\n",
    "if __name__ == \"__main__\":\n",
    "    solution_path = water_jugs_bfs(4, 3, 2)\n",
    "    if solution_path:\n",
    "        print(\"Steps to reach the target:\")\n",
    "        for step in solution_path:\n",
    "            print(step)\n",
    "    else:\n",
    "        print(\"No solution found.\")\n"
   ]
  },
  {
   "cell_type": "code",
   "execution_count": null,
   "id": "813912bc-af4f-40b1-96fd-ee16ae14161c",
   "metadata": {},
   "outputs": [],
   "source": []
  }
 ],
 "metadata": {
  "kernelspec": {
   "display_name": "Python 3 (ipykernel)",
   "language": "python",
   "name": "python3"
  },
  "language_info": {
   "codemirror_mode": {
    "name": "ipython",
    "version": 3
   },
   "file_extension": ".py",
   "mimetype": "text/x-python",
   "name": "python",
   "nbconvert_exporter": "python",
   "pygments_lexer": "ipython3",
   "version": "3.13.5"
  }
 },
 "nbformat": 4,
 "nbformat_minor": 5
}
