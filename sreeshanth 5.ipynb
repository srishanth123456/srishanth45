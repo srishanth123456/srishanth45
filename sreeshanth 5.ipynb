{
 "cells": [
  {
   "cell_type": "code",
   "execution_count": 1,
   "id": "b6b12a51-a857-4dd9-b3cb-d4860fe27252",
   "metadata": {},
   "outputs": [
    {
     "name": "stdout",
     "output_type": "stream",
     "text": [
      "Path found: ['A', 'E', 'D', 'G']\n"
     ]
    },
    {
     "data": {
      "text/plain": [
       "['A', 'E', 'D', 'G']"
      ]
     },
     "execution_count": 1,
     "metadata": {},
     "output_type": "execute_result"
    }
   ],
   "source": [
    "def aStarAlgo(start_node, stop_node):\n",
    "    open_set = set([start_node])  # nodes to be evaluated\n",
    "    closed_set = set()            # nodes already evaluated\n",
    "    g = {}                        # cost from start to each node\n",
    "    parents = {}                  # parents to reconstruct the path\n",
    "\n",
    "    g[start_node] = 0\n",
    "    parents[start_node] = start_node\n",
    "\n",
    "    while len(open_set) > 0:\n",
    "        n = None\n",
    "\n",
    "        # Find node in open_set with lowest g[n] + heuristic(n)\n",
    "        for v in open_set:\n",
    "            if n is None or g[v] + heuristic(v) < g[n] + heuristic(n):\n",
    "                n = v\n",
    "\n",
    "        if n is None:\n",
    "            print('Path does not exist!')\n",
    "            return None\n",
    "\n",
    "        if n == stop_node:\n",
    "            path = []\n",
    "            while parents[n] != n:\n",
    "                path.append(n)\n",
    "                n = parents[n]\n",
    "            path.append(start_node)\n",
    "            path.reverse()\n",
    "            print('Path found:', path)\n",
    "            return path\n",
    "\n",
    "        # For each neighbor of n\n",
    "        for (m, weight) in get_neighbors(n):\n",
    "            # If m is not in open_set and not in closed_set, add it to open_set\n",
    "            if m not in open_set and m not in closed_set:\n",
    "                open_set.add(m)\n",
    "                parents[m] = n\n",
    "                g[m] = g[n] + weight\n",
    "            else:\n",
    "                # Check if this path to neighbor is better\n",
    "                if g[m] > g[n] + weight:\n",
    "                    g[m] = g[n] + weight\n",
    "                    parents[m] = n\n",
    "\n",
    "                    # If neighbor is in closed_set, move it to open_set\n",
    "                    if m in closed_set:\n",
    "                        closed_set.remove(m)\n",
    "                        open_set.add(m)\n",
    "\n",
    "        open_set.remove(n)\n",
    "        closed_set.add(n)\n",
    "\n",
    "    print('Path does not exist!')\n",
    "    return None\n",
    "\n",
    "\n",
    "def get_neighbors(node):\n",
    "    if node in graph_nodes:\n",
    "        return graph_nodes[node]\n",
    "    else:\n",
    "        return []  # return empty list if no neighbors\n",
    "\n",
    "\n",
    "def heuristic(node):\n",
    "    H_dist = {\n",
    "        'A': 11,\n",
    "        'B': 6,\n",
    "        'C': 99,\n",
    "        'D': 1,\n",
    "        'E': 7,\n",
    "        'G': 0,\n",
    "    }\n",
    "    return H_dist.get(node, float('inf'))\n",
    "\n",
    "\n",
    "graph_nodes = {\n",
    "    'A': [('B', 2), ('E', 3)],\n",
    "    'B': [('A', 2), ('C', 1), ('G', 9)],\n",
    "    'C': [('B', 1)],\n",
    "    'D': [('E', 6), ('G', 1)],\n",
    "    'E': [('A', 3), ('D', 6)],\n",
    "    'G': [('B', 9), ('D', 1)]\n",
    "}\n",
    "\n",
    "# Run the algorithm\n",
    "aStarAlgo('A', 'G')\n"
   ]
  },
  {
   "cell_type": "code",
   "execution_count": null,
   "id": "a37b09d0-3f03-43fa-97a8-036fb369f068",
   "metadata": {},
   "outputs": [],
   "source": []
  }
 ],
 "metadata": {
  "kernelspec": {
   "display_name": "Python 3 (ipykernel)",
   "language": "python",
   "name": "python3"
  },
  "language_info": {
   "codemirror_mode": {
    "name": "ipython",
    "version": 3
   },
   "file_extension": ".py",
   "mimetype": "text/x-python",
   "name": "python",
   "nbconvert_exporter": "python",
   "pygments_lexer": "ipython3",
   "version": "3.13.5"
  }
 },
 "nbformat": 4,
 "nbformat_minor": 5
}
